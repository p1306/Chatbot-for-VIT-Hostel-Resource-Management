{
  "nbformat": 4,
  "nbformat_minor": 0,
  "metadata": {
    "colab": {
      "provenance": [],
      "authorship_tag": "ABX9TyNYoRIvUW+rFAGCQ+nfCjvl",
      "include_colab_link": true
    },
    "kernelspec": {
      "name": "python3",
      "display_name": "Python 3"
    },
    "language_info": {
      "name": "python"
    }
  },
  "cells": [
    {
      "cell_type": "markdown",
      "metadata": {
        "id": "view-in-github",
        "colab_type": "text"
      },
      "source": [
        "<a href=\"https://colab.research.google.com/github/p1306/Chatbot-for-VIT-Hostel-Resource-Management/blob/main/Chatbot_for_hostel_resources.ipynb\" target=\"_parent\"><img src=\"https://colab.research.google.com/assets/colab-badge.svg\" alt=\"Open In Colab\"/></a>"
      ]
    },
    {
      "cell_type": "code",
      "source": [
        "from google.colab import files\n",
        "import pandas as pd\n",
        "import numpy as np\n",
        "from sklearn.model_selection import train_test_split\n",
        "from sklearn.preprocessing import LabelEncoder\n",
        "from sklearn.ensemble import RandomForestClassifier\n",
        "import joblib"
      ],
      "metadata": {
        "id": "LUlWwjRqI2NM"
      },
      "execution_count": null,
      "outputs": []
    },
    {
      "cell_type": "code",
      "source": [
        "# Load datasets\n",
        "category_files = {\n",
        "    \"mattress\": \"/content/drive/MyDrive/capston hostel/Mattress.csv\",\n",
        "    \"books\": \"/content/drive/MyDrive/capston hostel/books.csv\",\n",
        "    \"electronics\": \"/content/drive/MyDrive/capston hostel/electronics.csv\",\n",
        "    \"toiletries\": \"/content/drive/MyDrive/capston hostel/toiletries.csv\",\n",
        "    \"clothes\": \"/content/drive/MyDrive/capston hostel/clothes.csv\"\n",
        "}\n",
        "\n",
        "dataframes = {cat: pd.read_csv(file) for cat, file in category_files.items()}"
      ],
      "metadata": {
        "id": "eyYhSlocRLdX"
      },
      "execution_count": null,
      "outputs": []
    },
    {
      "cell_type": "code",
      "source": [
        "from google.colab import drive\n",
        "drive.mount('/content/drive')"
      ],
      "metadata": {
        "id": "WFjWP_V_bSIb",
        "colab": {
          "base_uri": "https://localhost:8080/"
        },
        "outputId": "782d871c-fa97-4dbe-cfd5-d52f626a6ed1"
      },
      "execution_count": null,
      "outputs": [
        {
          "output_type": "stream",
          "name": "stdout",
          "text": [
            "Mounted at /content/drive\n"
          ]
        }
      ]
    },
    {
      "cell_type": "code",
      "source": [
        "# Train ML models for each category\n",
        "models = {}\n",
        "\n",
        "for category, df in dataframes.items():\n",
        "    # Ensure 'Recommendation' column exists\n",
        "    if 'recommendation' not in df.columns:\n",
        "        print(f\"Skipping {category}: No 'Recommendation' column found.\")\n",
        "        continue\n",
        "\n",
        "    # Remove ID column if present\n",
        "    df = df.drop(columns=[\"id\"], errors=\"ignore\")\n",
        "\n",
        "    # Encode categorical features\n",
        "    df_encoded = df.copy()\n",
        "    encoders = {}\n",
        "\n",
        "    for col in df.columns:\n",
        "        if df[col].dtype == object and col != \"recommendation\":\n",
        "            encoders[col] = LabelEncoder()\n",
        "            df_encoded[col] = encoders[col].fit_transform(df[col])\n",
        "\n",
        "    # Encode target variable\n",
        "    target_le = LabelEncoder()\n",
        "    df_encoded[\"recommendation\"] = target_le.fit_transform(df[\"recommendation\"])\n",
        "\n",
        "    # Split data\n",
        "    X = df_encoded.drop(columns=[\"recommendation\"])\n",
        "    y = df_encoded[\"recommendation\"]\n",
        "\n",
        "    X_train, X_test, y_train, y_test = train_test_split(X, y, test_size=0.2, random_state=42)\n",
        "\n",
        "    # Train model\n",
        "    model = RandomForestClassifier(n_estimators=100, random_state=42)\n",
        "    model.fit(X_train, y_train)\n",
        "\n",
        "    # Store trained model & encoders\n",
        "    models[category] = {\"model\": model, \"target_encoder\": target_le, \"feature_encoders\": encoders}\n",
        "\n",
        "print(\"✅ Models trained successfully!\")"
      ],
      "metadata": {
        "colab": {
          "base_uri": "https://localhost:8080/"
        },
        "id": "pnkJaBZ3RQ80",
        "outputId": "77bb835d-3580-4c3d-a126-9ad8d811846e"
      },
      "execution_count": null,
      "outputs": [
        {
          "output_type": "stream",
          "name": "stdout",
          "text": [
            "✅ Models trained successfully!\n"
          ]
        }
      ]
    },
    {
      "cell_type": "code",
      "source": [
        "# Store user interactions\n",
        "user_data = []"
      ],
      "metadata": {
        "id": "E0IG7NTRRYDJ"
      },
      "execution_count": null,
      "outputs": []
    },
    {
      "cell_type": "code",
      "execution_count": null,
      "metadata": {
        "id": "k5KPrEcFIp01"
      },
      "outputs": [],
      "source": [
        "#chatbot\n",
        "def chatbot():\n",
        "    print(\"\\n🔹 Welcome to the Recycle System Chatbot 🔹\")\n",
        "\n",
        "    # Select category\n",
        "    print(f\"\\nAvailable categories: {list(category_files.keys())}\")\n",
        "    category = input(\"👉 Please select a category: \").strip().lower()\n",
        "\n",
        "    if category not in dataframes:\n",
        "        print(\"❌ Invalid category! Please restart.\")\n",
        "        return\n",
        "\n",
        "    # Ask for item name\n",
        "    item_name = input(\"🔹 Enter the name of the item: \").strip()\n",
        "\n",
        "    # Retrieve relevant conditions (excluding ID and Recommendation)\n",
        "    df = dataframes[category].drop(columns=[\"id\", \"recommendation\"], errors=\"ignore\")\n",
        "\n",
        "    user_inputs = {\"Item Name\": item_name, \"Category\": category}\n",
        "\n",
        "    for col in df.columns:\n",
        "        if df[col].dtype == object:\n",
        "            # If it's a categorical variable (not YES/NO)\n",
        "            unique_values = dataframes[category][col].dropna().unique()\n",
        "            print(f\"👉 Choose a value for {col} {list(unique_values)}:\")\n",
        "            value = input().strip()\n",
        "\n",
        "            while value not in unique_values:\n",
        "                print(f\"❌ Invalid input! Choose one from {list(unique_values)}:\")\n",
        "                value = input().strip()\n",
        "\n",
        "            user_inputs[col] = value\n",
        "\n",
        "        elif df[col].nunique() == 2:\n",
        "            # If it's a binary YES/NO input\n",
        "            value = input(f\"👉 Enter YES or NO for {col}: \").strip().upper()\n",
        "            while value not in [\"YES\", \"NO\"]:\n",
        "                print(\"❌ Invalid input! Please enter YES or NO.\")\n",
        "                value = input(f\"👉 Enter YES or NO for {col}: \").strip().upper()\n",
        "            user_inputs[col] = 1 if value == \"YES\" else 0\n",
        "\n",
        "        else:\n",
        "            # If it's a numerical input\n",
        "            if col in [\"overall_condition\", \"thickness\"]:  # Ensure range is 1-5\n",
        "              value = input(f\"👉 Enter a number for {col} (1-5): \").strip()\n",
        "              while not value.isdigit() or not (1 <= int(value) <= 5):\n",
        "                print(\"❌ Invalid input! Please enter a number between 1 and 5.\")\n",
        "                value = input(f\"👉 Enter a number for {col} (1-5): \").strip()\n",
        "              user_inputs[col] = int(value)\n",
        "            else:\n",
        "              value = input(f\"👉 Enter a number for {col} in months: \").strip()\n",
        "              user_inputs[col] = int(value)\n",
        "\n",
        "    # Convert inputs for prediction\n",
        "    input_df = pd.DataFrame([user_inputs])\n",
        "    input_df.drop(columns=[\"Item Name\", \"Category\", \"Recommendation\"], errors=\"ignore\", inplace=True)\n",
        "\n",
        "    # Encode categorical features using stored encoders\n",
        "    model_info = models[category]\n",
        "    encoders = model_info[\"feature_encoders\"]\n",
        "\n",
        "    for col, encoder in encoders.items():\n",
        "        input_df[col] = encoder.transform([user_inputs[col]])\n",
        "\n",
        "    # Predict recommendation\n",
        "    prediction = model_info[\"model\"].predict(input_df)\n",
        "    recommendation = model_info[\"target_encoder\"].inverse_transform(prediction)[0]\n",
        "\n",
        "    print(f\"\\n✅ Recommended action for '{item_name}': {recommendation}\")\n",
        "\n",
        "    # Save user data\n",
        "    user_inputs[\"Recommendation\"] = recommendation\n",
        "    user_data.append(user_inputs)\n",
        "\n",
        "    # Save to CSV\n",
        "    pd.DataFrame(user_data).to_csv(\"user_responses.csv\", index=False)\n",
        "    # print(\"\\n✅ Data recorded successfully!\")"
      ]
    },
    {
      "cell_type": "code",
      "source": [
        "import spacy\n",
        "import csv\n",
        "import os\n",
        "\n",
        "# Load NLP model\n",
        "nlp = spacy.load(\"en_core_web_sm\")\n",
        "\n",
        "# Complaint categories with associated keywords\n",
        "complaint_categories = {\n",
        "    \"electronics\": [\"fan\", \"switch\", \"light\", \"TV\", \"computer\", \"charger\", \"power\"],\n",
        "    \"carpentry\": [\"door\", \"window\", \"furniture\", \"bed\", \"chair\", \"table\", \"lock\", \"repair\"],\n",
        "    \"AC\": [\"AC\", \"air conditioner\", \"cooling\", \"temperature\"],\n",
        "    \"housekeeping\": [\"dirty\", \"cleaning\", \"dust\", \"washroom\", \"hygiene\"],\n",
        "    \"plumbing\": [\"tap\", \"pipe\", \"water\", \"leakage\", \"flush\", \"drainage\"],\n",
        "    \"mess\": [\"food\", \"canteen\", \"meal\", \"utensils\", \"dining hall\"]\n",
        "}\n",
        "\n",
        "# Function to categorize complaint\n",
        "def categorize_complaint(complaint_text):\n",
        "    doc = nlp(complaint_text.lower())  # Process text\n",
        "\n",
        "    # Check keywords against complaint categories\n",
        "    for token in doc:\n",
        "        for category, keywords in complaint_categories.items():\n",
        "            if token.text in keywords:\n",
        "                return category  # Return matched category\n",
        "\n",
        "    return \"general\"  # Default category if no match is found\n",
        "\n",
        "# Function to save complaint to CSV\n",
        "def save_complaint(issue, category, filename=\"/content/drive/MyDrive/capston hostel/complaints.csv\"):\n",
        "    file_exists = os.path.isfile(filename)\n",
        "\n",
        "    with open(filename, mode=\"a\", newline=\"\") as file:\n",
        "        writer = csv.writer(file)\n",
        "\n",
        "        # Write header if file doesn't exist\n",
        "        if not file_exists:\n",
        "            writer.writerow([\"Issue\", \"Category\"])\n",
        "\n",
        "        # Write the complaint entry\n",
        "        writer.writerow([issue, category])\n",
        "\n",
        "    print(\"📂 Complaint logged successfully!\")\n",
        "\n",
        "# Chatbot flow\n",
        "def chatbot_flow():\n",
        "    user_choice = input(\"👉 Do you want to register a complaint or report a left-behind item? (Type 'complaint' or 'left-behind'): \").strip().lower()\n",
        "\n",
        "    if user_choice == \"complaint\":\n",
        "        complaint_text = input(\"🔹 Please describe your complaint: \")\n",
        "        category = categorize_complaint(complaint_text)\n",
        "\n",
        "        print(f\"✅ Complaint registered under **{category.upper()}** category.\")\n",
        "        print(f\"📌 Issue: {complaint_text}\")\n",
        "\n",
        "        # Save complaint to CSV\n",
        "        save_complaint(complaint_text, category)\n",
        "\n",
        "    elif user_choice == \"left-behind\":\n",
        "        print(\"Proceeding with left-behind items flow...\")\n",
        "        chatbot()  # Connect to existing flow\n",
        "\n",
        "    else:\n",
        "        print(\"❌ Invalid choice. Please enter 'complaint' or 'left-behind'.\")\n",
        "\n",
        "# Run chatbot\n",
        "chatbot_flow()"
      ],
      "metadata": {
        "colab": {
          "base_uri": "https://localhost:8080/"
        },
        "id": "Z1XEfmxhkFov",
        "outputId": "22129cbe-e389-4f17-943c-02052e81afbf"
      },
      "execution_count": null,
      "outputs": [
        {
          "output_type": "stream",
          "name": "stderr",
          "text": [
            "/usr/local/lib/python3.11/dist-packages/spacy/util.py:1740: UserWarning: [W111] Jupyter notebook detected: if using `prefer_gpu()` or `require_gpu()`, include it in the same cell right before `spacy.load()` to ensure that the model is loaded on the correct device. More information: http://spacy.io/usage/v3#jupyter-notebook-gpu\n",
            "  warnings.warn(Warnings.W111)\n"
          ]
        },
        {
          "output_type": "stream",
          "name": "stdout",
          "text": [
            "👉 Do you want to register a complaint or report a left-behind item? (Type 'complaint' or 'left-behind'): left-behind\n",
            "Proceeding with left-behind items flow...\n",
            "\n",
            "🔹 Welcome to the Recycle System Chatbot 🔹\n",
            "\n",
            "Available categories: ['mattress', 'books', 'electronics', 'toiletries', 'clothes']\n",
            "👉 Please select a category: toiletries\n",
            "🔹 Enter the name of the item: bucket\n",
            "👉 Choose a value for broken ['NO', 'YES']:\n",
            "YES\n",
            "👉 Enter a number for usage_duration in months: 16\n",
            "👉 Choose a value for working ['YES', 'NO']:\n",
            "YES\n",
            "\n",
            "✅ Recommended action for 'bucket': Repair\n"
          ]
        }
      ]
    }
  ]
}